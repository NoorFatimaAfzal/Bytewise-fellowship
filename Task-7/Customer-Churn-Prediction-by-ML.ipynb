{
  "nbformat": 4,
  "nbformat_minor": 0,
  "metadata": {
    "colab": {
      "provenance": []
    },
    "kernelspec": {
      "name": "python3",
      "display_name": "Python 3"
    },
    "language_info": {
      "name": "python"
    }
  },
  "cells": [
    {
      "cell_type": "markdown",
      "source": [
        "## data loading and prepration"
      ],
      "metadata": {
        "id": "61BIIdNXL5Eq"
      }
    },
    {
      "cell_type": "code",
      "execution_count": 2,
      "metadata": {
        "id": "Km0LGKilIpKe"
      },
      "outputs": [],
      "source": [
        "import pandas as pd\n",
        "from sklearn.preprocessing import OneHotEncoder, StandardScaler\n",
        "from sklearn.compose import ColumnTransformer"
      ]
    },
    {
      "cell_type": "code",
      "source": [
        "df1 = pd.read_csv('/content/telecom_usage.csv')\n",
        "df2 = pd.read_csv('/content/telecom_demographics.csv')"
      ],
      "metadata": {
        "id": "rMepbe_RI0pO"
      },
      "execution_count": 3,
      "outputs": []
    },
    {
      "cell_type": "code",
      "source": [
        "churn_df = pd.merge(df1, df2, on='customer_id')"
      ],
      "metadata": {
        "id": "p9OJhh1yJCBB"
      },
      "execution_count": 4,
      "outputs": []
    },
    {
      "cell_type": "code",
      "source": [
        "churn_df.head()"
      ],
      "metadata": {
        "colab": {
          "base_uri": "https://localhost:8080/",
          "height": 244
        },
        "id": "txZ2d1SRJGNQ",
        "outputId": "4f8eb68e-2cdf-4473-de21-b90eb1f2688c"
      },
      "execution_count": 5,
      "outputs": [
        {
          "output_type": "execute_result",
          "data": {
            "text/plain": [
              "   customer_id  calls_made  sms_sent  data_used  churn telecom_partner gender  \\\n",
              "0        15169          75        21       4532      1          Airtel      F   \n",
              "1       149207          35        38        723      1          Airtel      F   \n",
              "2       148119          70        47       4688      1          Airtel      F   \n",
              "3       187288          95        32      10241      1    Reliance Jio      M   \n",
              "4        14016          66        23       5246      1        Vodafone      M   \n",
              "\n",
              "   age             state       city  pincode registration_event  \\\n",
              "0   26  Himachal Pradesh      Delhi   667173         2020-03-16   \n",
              "1   74       Uttarakhand  Hyderabad   313997         2022-01-16   \n",
              "2   54         Jharkhand    Chennai   549925         2022-01-11   \n",
              "3   29             Bihar  Hyderabad   230636         2022-07-26   \n",
              "4   45          Nagaland  Bangalore   188036         2020-03-11   \n",
              "\n",
              "   num_dependents  estimated_salary  \n",
              "0               4             85979  \n",
              "1               0             69445  \n",
              "2               2             75949  \n",
              "3               3             34272  \n",
              "4               4             34157  "
            ],
            "text/html": [
              "\n",
              "  <div id=\"df-4351d8e2-e43d-40ff-ac70-b068fffcb4ee\" class=\"colab-df-container\">\n",
              "    <div>\n",
              "<style scoped>\n",
              "    .dataframe tbody tr th:only-of-type {\n",
              "        vertical-align: middle;\n",
              "    }\n",
              "\n",
              "    .dataframe tbody tr th {\n",
              "        vertical-align: top;\n",
              "    }\n",
              "\n",
              "    .dataframe thead th {\n",
              "        text-align: right;\n",
              "    }\n",
              "</style>\n",
              "<table border=\"1\" class=\"dataframe\">\n",
              "  <thead>\n",
              "    <tr style=\"text-align: right;\">\n",
              "      <th></th>\n",
              "      <th>customer_id</th>\n",
              "      <th>calls_made</th>\n",
              "      <th>sms_sent</th>\n",
              "      <th>data_used</th>\n",
              "      <th>churn</th>\n",
              "      <th>telecom_partner</th>\n",
              "      <th>gender</th>\n",
              "      <th>age</th>\n",
              "      <th>state</th>\n",
              "      <th>city</th>\n",
              "      <th>pincode</th>\n",
              "      <th>registration_event</th>\n",
              "      <th>num_dependents</th>\n",
              "      <th>estimated_salary</th>\n",
              "    </tr>\n",
              "  </thead>\n",
              "  <tbody>\n",
              "    <tr>\n",
              "      <th>0</th>\n",
              "      <td>15169</td>\n",
              "      <td>75</td>\n",
              "      <td>21</td>\n",
              "      <td>4532</td>\n",
              "      <td>1</td>\n",
              "      <td>Airtel</td>\n",
              "      <td>F</td>\n",
              "      <td>26</td>\n",
              "      <td>Himachal Pradesh</td>\n",
              "      <td>Delhi</td>\n",
              "      <td>667173</td>\n",
              "      <td>2020-03-16</td>\n",
              "      <td>4</td>\n",
              "      <td>85979</td>\n",
              "    </tr>\n",
              "    <tr>\n",
              "      <th>1</th>\n",
              "      <td>149207</td>\n",
              "      <td>35</td>\n",
              "      <td>38</td>\n",
              "      <td>723</td>\n",
              "      <td>1</td>\n",
              "      <td>Airtel</td>\n",
              "      <td>F</td>\n",
              "      <td>74</td>\n",
              "      <td>Uttarakhand</td>\n",
              "      <td>Hyderabad</td>\n",
              "      <td>313997</td>\n",
              "      <td>2022-01-16</td>\n",
              "      <td>0</td>\n",
              "      <td>69445</td>\n",
              "    </tr>\n",
              "    <tr>\n",
              "      <th>2</th>\n",
              "      <td>148119</td>\n",
              "      <td>70</td>\n",
              "      <td>47</td>\n",
              "      <td>4688</td>\n",
              "      <td>1</td>\n",
              "      <td>Airtel</td>\n",
              "      <td>F</td>\n",
              "      <td>54</td>\n",
              "      <td>Jharkhand</td>\n",
              "      <td>Chennai</td>\n",
              "      <td>549925</td>\n",
              "      <td>2022-01-11</td>\n",
              "      <td>2</td>\n",
              "      <td>75949</td>\n",
              "    </tr>\n",
              "    <tr>\n",
              "      <th>3</th>\n",
              "      <td>187288</td>\n",
              "      <td>95</td>\n",
              "      <td>32</td>\n",
              "      <td>10241</td>\n",
              "      <td>1</td>\n",
              "      <td>Reliance Jio</td>\n",
              "      <td>M</td>\n",
              "      <td>29</td>\n",
              "      <td>Bihar</td>\n",
              "      <td>Hyderabad</td>\n",
              "      <td>230636</td>\n",
              "      <td>2022-07-26</td>\n",
              "      <td>3</td>\n",
              "      <td>34272</td>\n",
              "    </tr>\n",
              "    <tr>\n",
              "      <th>4</th>\n",
              "      <td>14016</td>\n",
              "      <td>66</td>\n",
              "      <td>23</td>\n",
              "      <td>5246</td>\n",
              "      <td>1</td>\n",
              "      <td>Vodafone</td>\n",
              "      <td>M</td>\n",
              "      <td>45</td>\n",
              "      <td>Nagaland</td>\n",
              "      <td>Bangalore</td>\n",
              "      <td>188036</td>\n",
              "      <td>2020-03-11</td>\n",
              "      <td>4</td>\n",
              "      <td>34157</td>\n",
              "    </tr>\n",
              "  </tbody>\n",
              "</table>\n",
              "</div>\n",
              "    <div class=\"colab-df-buttons\">\n",
              "\n",
              "  <div class=\"colab-df-container\">\n",
              "    <button class=\"colab-df-convert\" onclick=\"convertToInteractive('df-4351d8e2-e43d-40ff-ac70-b068fffcb4ee')\"\n",
              "            title=\"Convert this dataframe to an interactive table.\"\n",
              "            style=\"display:none;\">\n",
              "\n",
              "  <svg xmlns=\"http://www.w3.org/2000/svg\" height=\"24px\" viewBox=\"0 -960 960 960\">\n",
              "    <path d=\"M120-120v-720h720v720H120Zm60-500h600v-160H180v160Zm220 220h160v-160H400v160Zm0 220h160v-160H400v160ZM180-400h160v-160H180v160Zm440 0h160v-160H620v160ZM180-180h160v-160H180v160Zm440 0h160v-160H620v160Z\"/>\n",
              "  </svg>\n",
              "    </button>\n",
              "\n",
              "  <style>\n",
              "    .colab-df-container {\n",
              "      display:flex;\n",
              "      gap: 12px;\n",
              "    }\n",
              "\n",
              "    .colab-df-convert {\n",
              "      background-color: #E8F0FE;\n",
              "      border: none;\n",
              "      border-radius: 50%;\n",
              "      cursor: pointer;\n",
              "      display: none;\n",
              "      fill: #1967D2;\n",
              "      height: 32px;\n",
              "      padding: 0 0 0 0;\n",
              "      width: 32px;\n",
              "    }\n",
              "\n",
              "    .colab-df-convert:hover {\n",
              "      background-color: #E2EBFA;\n",
              "      box-shadow: 0px 1px 2px rgba(60, 64, 67, 0.3), 0px 1px 3px 1px rgba(60, 64, 67, 0.15);\n",
              "      fill: #174EA6;\n",
              "    }\n",
              "\n",
              "    .colab-df-buttons div {\n",
              "      margin-bottom: 4px;\n",
              "    }\n",
              "\n",
              "    [theme=dark] .colab-df-convert {\n",
              "      background-color: #3B4455;\n",
              "      fill: #D2E3FC;\n",
              "    }\n",
              "\n",
              "    [theme=dark] .colab-df-convert:hover {\n",
              "      background-color: #434B5C;\n",
              "      box-shadow: 0px 1px 3px 1px rgba(0, 0, 0, 0.15);\n",
              "      filter: drop-shadow(0px 1px 2px rgba(0, 0, 0, 0.3));\n",
              "      fill: #FFFFFF;\n",
              "    }\n",
              "  </style>\n",
              "\n",
              "    <script>\n",
              "      const buttonEl =\n",
              "        document.querySelector('#df-4351d8e2-e43d-40ff-ac70-b068fffcb4ee button.colab-df-convert');\n",
              "      buttonEl.style.display =\n",
              "        google.colab.kernel.accessAllowed ? 'block' : 'none';\n",
              "\n",
              "      async function convertToInteractive(key) {\n",
              "        const element = document.querySelector('#df-4351d8e2-e43d-40ff-ac70-b068fffcb4ee');\n",
              "        const dataTable =\n",
              "          await google.colab.kernel.invokeFunction('convertToInteractive',\n",
              "                                                    [key], {});\n",
              "        if (!dataTable) return;\n",
              "\n",
              "        const docLinkHtml = 'Like what you see? Visit the ' +\n",
              "          '<a target=\"_blank\" href=https://colab.research.google.com/notebooks/data_table.ipynb>data table notebook</a>'\n",
              "          + ' to learn more about interactive tables.';\n",
              "        element.innerHTML = '';\n",
              "        dataTable['output_type'] = 'display_data';\n",
              "        await google.colab.output.renderOutput(dataTable, element);\n",
              "        const docLink = document.createElement('div');\n",
              "        docLink.innerHTML = docLinkHtml;\n",
              "        element.appendChild(docLink);\n",
              "      }\n",
              "    </script>\n",
              "  </div>\n",
              "\n",
              "\n",
              "<div id=\"df-62781303-e99b-4492-be7c-aaf468297975\">\n",
              "  <button class=\"colab-df-quickchart\" onclick=\"quickchart('df-62781303-e99b-4492-be7c-aaf468297975')\"\n",
              "            title=\"Suggest charts\"\n",
              "            style=\"display:none;\">\n",
              "\n",
              "<svg xmlns=\"http://www.w3.org/2000/svg\" height=\"24px\"viewBox=\"0 0 24 24\"\n",
              "     width=\"24px\">\n",
              "    <g>\n",
              "        <path d=\"M19 3H5c-1.1 0-2 .9-2 2v14c0 1.1.9 2 2 2h14c1.1 0 2-.9 2-2V5c0-1.1-.9-2-2-2zM9 17H7v-7h2v7zm4 0h-2V7h2v10zm4 0h-2v-4h2v4z\"/>\n",
              "    </g>\n",
              "</svg>\n",
              "  </button>\n",
              "\n",
              "<style>\n",
              "  .colab-df-quickchart {\n",
              "      --bg-color: #E8F0FE;\n",
              "      --fill-color: #1967D2;\n",
              "      --hover-bg-color: #E2EBFA;\n",
              "      --hover-fill-color: #174EA6;\n",
              "      --disabled-fill-color: #AAA;\n",
              "      --disabled-bg-color: #DDD;\n",
              "  }\n",
              "\n",
              "  [theme=dark] .colab-df-quickchart {\n",
              "      --bg-color: #3B4455;\n",
              "      --fill-color: #D2E3FC;\n",
              "      --hover-bg-color: #434B5C;\n",
              "      --hover-fill-color: #FFFFFF;\n",
              "      --disabled-bg-color: #3B4455;\n",
              "      --disabled-fill-color: #666;\n",
              "  }\n",
              "\n",
              "  .colab-df-quickchart {\n",
              "    background-color: var(--bg-color);\n",
              "    border: none;\n",
              "    border-radius: 50%;\n",
              "    cursor: pointer;\n",
              "    display: none;\n",
              "    fill: var(--fill-color);\n",
              "    height: 32px;\n",
              "    padding: 0;\n",
              "    width: 32px;\n",
              "  }\n",
              "\n",
              "  .colab-df-quickchart:hover {\n",
              "    background-color: var(--hover-bg-color);\n",
              "    box-shadow: 0 1px 2px rgba(60, 64, 67, 0.3), 0 1px 3px 1px rgba(60, 64, 67, 0.15);\n",
              "    fill: var(--button-hover-fill-color);\n",
              "  }\n",
              "\n",
              "  .colab-df-quickchart-complete:disabled,\n",
              "  .colab-df-quickchart-complete:disabled:hover {\n",
              "    background-color: var(--disabled-bg-color);\n",
              "    fill: var(--disabled-fill-color);\n",
              "    box-shadow: none;\n",
              "  }\n",
              "\n",
              "  .colab-df-spinner {\n",
              "    border: 2px solid var(--fill-color);\n",
              "    border-color: transparent;\n",
              "    border-bottom-color: var(--fill-color);\n",
              "    animation:\n",
              "      spin 1s steps(1) infinite;\n",
              "  }\n",
              "\n",
              "  @keyframes spin {\n",
              "    0% {\n",
              "      border-color: transparent;\n",
              "      border-bottom-color: var(--fill-color);\n",
              "      border-left-color: var(--fill-color);\n",
              "    }\n",
              "    20% {\n",
              "      border-color: transparent;\n",
              "      border-left-color: var(--fill-color);\n",
              "      border-top-color: var(--fill-color);\n",
              "    }\n",
              "    30% {\n",
              "      border-color: transparent;\n",
              "      border-left-color: var(--fill-color);\n",
              "      border-top-color: var(--fill-color);\n",
              "      border-right-color: var(--fill-color);\n",
              "    }\n",
              "    40% {\n",
              "      border-color: transparent;\n",
              "      border-right-color: var(--fill-color);\n",
              "      border-top-color: var(--fill-color);\n",
              "    }\n",
              "    60% {\n",
              "      border-color: transparent;\n",
              "      border-right-color: var(--fill-color);\n",
              "    }\n",
              "    80% {\n",
              "      border-color: transparent;\n",
              "      border-right-color: var(--fill-color);\n",
              "      border-bottom-color: var(--fill-color);\n",
              "    }\n",
              "    90% {\n",
              "      border-color: transparent;\n",
              "      border-bottom-color: var(--fill-color);\n",
              "    }\n",
              "  }\n",
              "</style>\n",
              "\n",
              "  <script>\n",
              "    async function quickchart(key) {\n",
              "      const quickchartButtonEl =\n",
              "        document.querySelector('#' + key + ' button');\n",
              "      quickchartButtonEl.disabled = true;  // To prevent multiple clicks.\n",
              "      quickchartButtonEl.classList.add('colab-df-spinner');\n",
              "      try {\n",
              "        const charts = await google.colab.kernel.invokeFunction(\n",
              "            'suggestCharts', [key], {});\n",
              "      } catch (error) {\n",
              "        console.error('Error during call to suggestCharts:', error);\n",
              "      }\n",
              "      quickchartButtonEl.classList.remove('colab-df-spinner');\n",
              "      quickchartButtonEl.classList.add('colab-df-quickchart-complete');\n",
              "    }\n",
              "    (() => {\n",
              "      let quickchartButtonEl =\n",
              "        document.querySelector('#df-62781303-e99b-4492-be7c-aaf468297975 button');\n",
              "      quickchartButtonEl.style.display =\n",
              "        google.colab.kernel.accessAllowed ? 'block' : 'none';\n",
              "    })();\n",
              "  </script>\n",
              "</div>\n",
              "\n",
              "    </div>\n",
              "  </div>\n"
            ],
            "application/vnd.google.colaboratory.intrinsic+json": {
              "type": "dataframe",
              "variable_name": "churn_df",
              "summary": "{\n  \"name\": \"churn_df\",\n  \"rows\": 6500,\n  \"fields\": [\n    {\n      \"column\": \"customer_id\",\n      \"properties\": {\n        \"dtype\": \"number\",\n        \"std\": 70353,\n        \"min\": 47,\n        \"max\": 243505,\n        \"num_unique_values\": 6500,\n        \"samples\": [\n          192512,\n          220661,\n          227526\n        ],\n        \"semantic_type\": \"\",\n        \"description\": \"\"\n      }\n    },\n    {\n      \"column\": \"calls_made\",\n      \"properties\": {\n        \"dtype\": \"number\",\n        \"std\": 29,\n        \"min\": -10,\n        \"max\": 108,\n        \"num_unique_values\": 119,\n        \"samples\": [\n          79,\n          37,\n          66\n        ],\n        \"semantic_type\": \"\",\n        \"description\": \"\"\n      }\n    },\n    {\n      \"column\": \"sms_sent\",\n      \"properties\": {\n        \"dtype\": \"number\",\n        \"std\": 14,\n        \"min\": -5,\n        \"max\": 53,\n        \"num_unique_values\": 59,\n        \"samples\": [\n          21,\n          18,\n          9\n        ],\n        \"semantic_type\": \"\",\n        \"description\": \"\"\n      }\n    },\n    {\n      \"column\": \"data_used\",\n      \"properties\": {\n        \"dtype\": \"number\",\n        \"std\": 2940,\n        \"min\": -969,\n        \"max\": 10919,\n        \"num_unique_values\": 4906,\n        \"samples\": [\n          4445,\n          1842,\n          7739\n        ],\n        \"semantic_type\": \"\",\n        \"description\": \"\"\n      }\n    },\n    {\n      \"column\": \"churn\",\n      \"properties\": {\n        \"dtype\": \"number\",\n        \"std\": 0,\n        \"min\": 0,\n        \"max\": 1,\n        \"num_unique_values\": 2,\n        \"samples\": [\n          0,\n          1\n        ],\n        \"semantic_type\": \"\",\n        \"description\": \"\"\n      }\n    },\n    {\n      \"column\": \"telecom_partner\",\n      \"properties\": {\n        \"dtype\": \"category\",\n        \"num_unique_values\": 4,\n        \"samples\": [\n          \"Reliance Jio\",\n          \"BSNL\"\n        ],\n        \"semantic_type\": \"\",\n        \"description\": \"\"\n      }\n    },\n    {\n      \"column\": \"gender\",\n      \"properties\": {\n        \"dtype\": \"category\",\n        \"num_unique_values\": 2,\n        \"samples\": [\n          \"M\",\n          \"F\"\n        ],\n        \"semantic_type\": \"\",\n        \"description\": \"\"\n      }\n    },\n    {\n      \"column\": \"age\",\n      \"properties\": {\n        \"dtype\": \"number\",\n        \"std\": 16,\n        \"min\": 18,\n        \"max\": 74,\n        \"num_unique_values\": 57,\n        \"samples\": [\n          26,\n          69\n        ],\n        \"semantic_type\": \"\",\n        \"description\": \"\"\n      }\n    },\n    {\n      \"column\": \"state\",\n      \"properties\": {\n        \"dtype\": \"category\",\n        \"num_unique_values\": 28,\n        \"samples\": [\n          \"Odisha\",\n          \"Andhra Pradesh\"\n        ],\n        \"semantic_type\": \"\",\n        \"description\": \"\"\n      }\n    },\n    {\n      \"column\": \"city\",\n      \"properties\": {\n        \"dtype\": \"category\",\n        \"num_unique_values\": 6,\n        \"samples\": [\n          \"Delhi\",\n          \"Hyderabad\"\n        ],\n        \"semantic_type\": \"\",\n        \"description\": \"\"\n      }\n    },\n    {\n      \"column\": \"pincode\",\n      \"properties\": {\n        \"dtype\": \"number\",\n        \"std\": 259874,\n        \"min\": 100045,\n        \"max\": 999740,\n        \"num_unique_values\": 6468,\n        \"samples\": [\n          844564,\n          284534\n        ],\n        \"semantic_type\": \"\",\n        \"description\": \"\"\n      }\n    },\n    {\n      \"column\": \"registration_event\",\n      \"properties\": {\n        \"dtype\": \"object\",\n        \"num_unique_values\": 1216,\n        \"samples\": [\n          \"2022-11-26\",\n          \"2021-03-02\"\n        ],\n        \"semantic_type\": \"\",\n        \"description\": \"\"\n      }\n    },\n    {\n      \"column\": \"num_dependents\",\n      \"properties\": {\n        \"dtype\": \"number\",\n        \"std\": 1,\n        \"min\": 0,\n        \"max\": 4,\n        \"num_unique_values\": 5,\n        \"samples\": [\n          0,\n          1\n        ],\n        \"semantic_type\": \"\",\n        \"description\": \"\"\n      }\n    },\n    {\n      \"column\": \"estimated_salary\",\n      \"properties\": {\n        \"dtype\": \"number\",\n        \"std\": 37545,\n        \"min\": 20001,\n        \"max\": 149977,\n        \"num_unique_values\": 6353,\n        \"samples\": [\n          104131,\n          23701\n        ],\n        \"semantic_type\": \"\",\n        \"description\": \"\"\n      }\n    }\n  ]\n}"
            }
          },
          "metadata": {},
          "execution_count": 5
        }
      ]
    },
    {
      "cell_type": "markdown",
      "source": [
        "## applying scaling through column transform"
      ],
      "metadata": {
        "id": "f--NiJXyMAJ5"
      }
    },
    {
      "cell_type": "code",
      "source": [
        "churn_df.columns"
      ],
      "metadata": {
        "id": "5hlSAtD8ZvkH",
        "outputId": "28141985-c2d2-4b4f-f7d3-7a110b756838",
        "colab": {
          "base_uri": "https://localhost:8080/"
        }
      },
      "execution_count": 6,
      "outputs": [
        {
          "output_type": "execute_result",
          "data": {
            "text/plain": [
              "Index(['customer_id', 'calls_made', 'sms_sent', 'data_used', 'churn',\n",
              "       'telecom_partner', 'gender', 'age', 'state', 'city', 'pincode',\n",
              "       'registration_event', 'num_dependents', 'estimated_salary'],\n",
              "      dtype='object')"
            ]
          },
          "metadata": {},
          "execution_count": 6
        }
      ]
    },
    {
      "cell_type": "code",
      "source": [
        "# Define categorical and numerical columns\n",
        "categorical_features = ['telecom_partner', 'gender', 'state', 'city', 'registration_event']\n",
        "numerical_features = ['calls_made', 'sms_sent', 'data_used', 'age', 'pincode', 'num_dependents', 'estimated_salary']\n",
        "\n",
        "# Create column transformer with OneHotEncoder for categorical features and StandardScaler for numerical features\n",
        "preprocessor = ColumnTransformer(\n",
        "    transformers=[\n",
        "        ('num', StandardScaler(), numerical_features),\n",
        "        ('cat', OneHotEncoder(), categorical_features)\n",
        "    ])"
      ],
      "metadata": {
        "id": "nmDlEfOGJ4lz"
      },
      "execution_count": 7,
      "outputs": []
    },
    {
      "cell_type": "code",
      "source": [
        "# Apply the transformations\n",
        "features = churn_df.drop('churn', axis=1)\n",
        "target = churn_df['churn']\n",
        "\n",
        "features_scaled = preprocessor.fit_transform(features)"
      ],
      "metadata": {
        "id": "reWPpiFAKa8o"
      },
      "execution_count": 9,
      "outputs": []
    },
    {
      "cell_type": "code",
      "source": [
        "# Display the scaled features\n",
        "print(features_scaled)"
      ],
      "metadata": {
        "colab": {
          "base_uri": "https://localhost:8080/"
        },
        "id": "h5WPiWfkKiE9",
        "outputId": "cbd3ed0e-ef11-4378-ea15-b795c1e26492"
      },
      "execution_count": 10,
      "outputs": [
        {
          "output_type": "stream",
          "name": "stdout",
          "text": [
            "  (0, 0)\t0.846075853060938\n",
            "  (0, 1)\t-0.22238450720259403\n",
            "  (0, 2)\t-0.15948802391326633\n",
            "  (0, 3)\t-1.2229697881162898\n",
            "  (0, 4)\t0.45493602916447207\n",
            "  (0, 5)\t1.4365388699639015\n",
            "  (0, 6)\t0.011981184225627477\n",
            "  (0, 7)\t1.0\n",
            "  (0, 11)\t1.0\n",
            "  (0, 21)\t1.0\n",
            "  (0, 43)\t1.0\n",
            "  (0, 122)\t1.0\n",
            "  (1, 0)\t-0.49634439857967455\n",
            "  (1, 1)\t0.938055993642072\n",
            "  (1, 2)\t-1.4548963020853525\n",
            "  (1, 3)\t1.6963038021724683\n",
            "  (1, 4)\t-0.9041947281849755\n",
            "  (1, 5)\t-1.411346041897436\n",
            "  (1, 6)\t-0.428423410129078\n",
            "  (1, 7)\t1.0\n",
            "  (1, 11)\t1.0\n",
            "  (1, 39)\t1.0\n",
            "  (1, 44)\t1.0\n",
            "  (1, 790)\t1.0\n",
            "  (2, 0)\t0.6782733216058614\n",
            "  :\t:\n",
            "  (6497, 249)\t1.0\n",
            "  (6498, 0)\t0.07418420836758581\n",
            "  (6498, 1)\t-1.1097801843191033\n",
            "  (6498, 2)\t0.6237425522564145\n",
            "  (6498, 3)\t-1.2229697881162898\n",
            "  (6498, 4)\t0.8973146649731012\n",
            "  (6498, 5)\t0.7245676419985672\n",
            "  (6498, 6)\t0.9117021463710999\n",
            "  (6498, 10)\t1.0\n",
            "  (6498, 12)\t1.0\n",
            "  (6498, 28)\t1.0\n",
            "  (6498, 42)\t1.0\n",
            "  (6498, 372)\t1.0\n",
            "  (6499, 0)\t1.3494834474261677\n",
            "  (6499, 1)\t-0.8367353605909467\n",
            "  (6499, 2)\t0.1802633202437077\n",
            "  (6499, 3)\t-1.648697186700067\n",
            "  (6499, 4)\t1.4221048609348506\n",
            "  (6499, 5)\t0.7245676419985672\n",
            "  (6499, 6)\t0.9013406254321874\n",
            "  (6499, 9)\t1.0\n",
            "  (6499, 12)\t1.0\n",
            "  (6499, 29)\t1.0\n",
            "  (6499, 44)\t1.0\n",
            "  (6499, 349)\t1.0\n"
          ]
        }
      ]
    },
    {
      "cell_type": "code",
      "source": [
        "# Verify the shape\n",
        "print(\"Shape of Scaled Features:\", features_scaled.shape)\n",
        "print(\"Shape of Target:\", target.shape)"
      ],
      "metadata": {
        "colab": {
          "base_uri": "https://localhost:8080/"
        },
        "id": "B2OPBsZoKqqX",
        "outputId": "981cf967-065b-4409-bc47-2523d0d27462"
      },
      "execution_count": 11,
      "outputs": [
        {
          "output_type": "stream",
          "name": "stdout",
          "text": [
            "Shape of Scaled Features: (6500, 1263)\n",
            "Shape of Target: (6500,)\n"
          ]
        }
      ]
    },
    {
      "cell_type": "markdown",
      "source": [
        "## spliting data"
      ],
      "metadata": {
        "id": "k2E4rISoLJKM"
      }
    },
    {
      "cell_type": "code",
      "source": [
        "from sklearn.model_selection import train_test_split\n",
        "\n",
        "# Split the data into training and testing sets with an 80-20 split\n",
        "X_train, X_test, y_train, y_test = train_test_split(features_scaled, target, test_size=0.2, random_state=42)\n",
        "\n",
        "# Display the shapes of the resulting datasets\n",
        "print(\"Shape of X_train:\", X_train.shape)\n",
        "print(\"Shape of X_test:\", X_test.shape)\n",
        "print(\"Shape of y_train:\", y_train.shape)\n",
        "print(\"Shape of y_test:\", y_test.shape)"
      ],
      "metadata": {
        "colab": {
          "base_uri": "https://localhost:8080/"
        },
        "id": "y4u8Aqz7K8yb",
        "outputId": "7ae3f387-6317-4c58-9dc2-6322c44fa430"
      },
      "execution_count": 12,
      "outputs": [
        {
          "output_type": "stream",
          "name": "stdout",
          "text": [
            "Shape of X_train: (5200, 1263)\n",
            "Shape of X_test: (1300, 1263)\n",
            "Shape of y_train: (5200,)\n",
            "Shape of y_test: (1300,)\n"
          ]
        }
      ]
    },
    {
      "cell_type": "markdown",
      "source": [
        "## both models"
      ],
      "metadata": {
        "id": "ch7E8JosLccr"
      }
    },
    {
      "cell_type": "code",
      "source": [
        "from sklearn.linear_model import LogisticRegression\n",
        "from sklearn.ensemble import RandomForestClassifier\n",
        "from sklearn.metrics import accuracy_score\n",
        "\n",
        "# Train Logistic Regression model\n",
        "logreg = LogisticRegression(random_state=42)\n",
        "logreg.fit(X_train, y_train)\n",
        "logreg_pred = logreg.predict(X_test)\n",
        "\n",
        "# Train Random Forest Classifier model\n",
        "rf = RandomForestClassifier(random_state=42)\n",
        "rf.fit(X_train, y_train)\n",
        "rf_pred = rf.predict(X_test)\n",
        "\n",
        "# Assess the models on test data\n",
        "logreg_accuracy = accuracy_score(y_test, logreg_pred)\n",
        "rf_accuracy = accuracy_score(y_test, rf_pred)"
      ],
      "metadata": {
        "colab": {
          "base_uri": "https://localhost:8080/"
        },
        "id": "5snYmvEZLGrT",
        "outputId": "a29f85b3-4dda-4627-8c1f-5586e54f1c6c"
      },
      "execution_count": 13,
      "outputs": [
        {
          "output_type": "stream",
          "name": "stderr",
          "text": [
            "/usr/local/lib/python3.10/dist-packages/sklearn/linear_model/_logistic.py:460: ConvergenceWarning: lbfgs failed to converge (status=1):\n",
            "STOP: TOTAL NO. of ITERATIONS REACHED LIMIT.\n",
            "\n",
            "Increase the number of iterations (max_iter) or scale the data as shown in:\n",
            "    https://scikit-learn.org/stable/modules/preprocessing.html\n",
            "Please also refer to the documentation for alternative solver options:\n",
            "    https://scikit-learn.org/stable/modules/linear_model.html#logistic-regression\n",
            "  n_iter_i = _check_optimize_result(\n"
          ]
        }
      ]
    },
    {
      "cell_type": "code",
      "source": [
        "print(f\"Logistic Regression Accuracy: {logreg_accuracy}\")\n",
        "print(f\"Random Forest Accuracy: {rf_accuracy}\")"
      ],
      "metadata": {
        "colab": {
          "base_uri": "https://localhost:8080/"
        },
        "id": "0NWFvPW_LhEP",
        "outputId": "6e985a13-af2b-4f85-d3e7-f9282876b840"
      },
      "execution_count": 14,
      "outputs": [
        {
          "output_type": "stream",
          "name": "stdout",
          "text": [
            "Logistic Regression Accuracy: 0.7838461538461539\n",
            "Random Forest Accuracy: 0.7876923076923077\n"
          ]
        }
      ]
    },
    {
      "cell_type": "markdown",
      "source": [
        "## evaluating which one shows higher accuracy"
      ],
      "metadata": {
        "id": "dI2U9IbmMK0S"
      }
    },
    {
      "cell_type": "code",
      "source": [
        "if logreg_accuracy > rf_accuracy:\n",
        "    higher_accuracy = \"LogisticRegression\"\n",
        "else:\n",
        "    higher_accuracy = \"RandomForest\"\n",
        "print(f\"Higher Accuracy Model: {higher_accuracy}\")"
      ],
      "metadata": {
        "colab": {
          "base_uri": "https://localhost:8080/"
        },
        "id": "RRooM7FCLosf",
        "outputId": "557aac49-4bec-426b-ed0d-d05783065bf9"
      },
      "execution_count": 15,
      "outputs": [
        {
          "output_type": "stream",
          "name": "stdout",
          "text": [
            "Higher Accuracy Model: RandomForest\n"
          ]
        }
      ]
    },
    {
      "cell_type": "code",
      "source": [],
      "metadata": {
        "id": "MKaux_vdLyNT"
      },
      "execution_count": null,
      "outputs": []
    }
  ]
}